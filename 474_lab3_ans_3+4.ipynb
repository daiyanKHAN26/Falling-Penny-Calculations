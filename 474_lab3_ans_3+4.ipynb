{
  "nbformat": 4,
  "nbformat_minor": 0,
  "metadata": {
    "colab": {
      "name": "474_lab3_ans_3+4",
      "provenance": [],
      "authorship_tag": "ABX9TyP84gqETkT/KvCmLqbeDiGb"
    },
    "kernelspec": {
      "name": "python3",
      "display_name": "Python 3"
    },
    "language_info": {
      "name": "python"
    }
  },
  "cells": [
    {
      "cell_type": "markdown",
      "metadata": {
        "id": "2U1FoE7QU-2P"
      },
      "source": [
        "# **Penny drop with Air Resistance**"
      ]
    },
    {
      "cell_type": "code",
      "metadata": {
        "colab": {
          "base_uri": "https://localhost:8080/"
        },
        "id": "fauQzTzrOZOL",
        "outputId": "736d0e9d-dd80-45aa-94ce-a38c7260c3a2"
      },
      "source": [
        "# set up libraries\n",
        "\n",
        "# modsim.py setup\n",
        "from os.path import basename, exists\n",
        "\n",
        "def download(url):\n",
        "    filename = basename(url)\n",
        "    if not exists(filename):\n",
        "        from urllib.request import urlretrieve\n",
        "        local, _ = urlretrieve(url, filename)\n",
        "        print('Downloaded ' + local)\n",
        "    \n",
        "download('https://raw.githubusercontent.com/AllenDowney/' + 'ModSimPy/master/modsim.py')"
      ],
      "execution_count": 1,
      "outputs": [
        {
          "output_type": "stream",
          "name": "stdout",
          "text": [
            "Downloaded modsim.py\n"
          ]
        }
      ]
    },
    {
      "cell_type": "code",
      "metadata": {
        "id": "rFZFOb4FOfbC"
      },
      "source": [
        "# import all required functions\n",
        "from modsim import *\n",
        "from numpy import pi"
      ],
      "execution_count": 2,
      "outputs": []
    },
    {
      "cell_type": "code",
      "metadata": {
        "colab": {
          "base_uri": "https://localhost:8080/"
        },
        "id": "omcuhiogOgul",
        "outputId": "d05798c8-0f97-46c9-df4d-a9b0f5d975fe"
      },
      "source": [
        "# first calculate gravity on Arrakis\n",
        "earth_grav = 9.81\n",
        "arrak_grav = earth_grav*0.38\n",
        "print('Gravity on Arrakis is = %.2f' % arrak_grav,'m/s\\u00b2') "
      ],
      "execution_count": 3,
      "outputs": [
        {
          "output_type": "stream",
          "name": "stdout",
          "text": [
            "Gravity on Arrakis is = 3.73 m/s²\n"
          ]
        }
      ]
    },
    {
      "cell_type": "code",
      "metadata": {
        "colab": {
          "base_uri": "https://localhost:8080/"
        },
        "id": "Zl1ADDaWPb8m",
        "outputId": "9bd1e8bf-2c9d-44f3-c08e-9a6067def845"
      },
      "source": [
        "# Set parameters for calculation\n",
        "# Take user input for mass and density. Diameter is fixed at 20cm (0.2m)\n",
        "params = Params(\n",
        "    mass = float(input('Enter mass of penny (kg): ')),\n",
        "    rho = float(input('Enter density of penny (kg/m\\u00b3): ')),\n",
        "    g = arrak_grav,\n",
        "    diam = 0.2,\n",
        "    v_init = 0,       # initial velocity  (m/s)\n",
        "    v_term = 40,      # terminal velocity (m/s)\n",
        "    h = 58-3,         # drop height minus enemy height (m)\n",
        "    t_end = 100,\n",
        ")"
      ],
      "execution_count": 4,
      "outputs": [
        {
          "name": "stdout",
          "output_type": "stream",
          "text": [
            "Enter mass of penny (kg): 10\n",
            "Enter density of penny (kg/m³): 1.5\n"
          ]
        }
      ]
    },
    {
      "cell_type": "code",
      "metadata": {
        "id": "iLntHVjyLcoH"
      },
      "source": [
        "# Define method to carry out calculations\n",
        "def make_system(params):\n",
        "    init = State(y=params.h, v=params.v_init)\n",
        "\n",
        "    #calculate area\n",
        "    area = pi * (params.diam/2)**2\n",
        "\n",
        "    #calculate coefficient of drag\n",
        "    cD = (2 * params.mass * params.g / (params.rho * area * params.v_term**2))\n",
        "\n",
        "    return System(init=init,\n",
        "                  area=area,\n",
        "                  cD=cD,\n",
        "                  mass=params.mass,\n",
        "                  rho=params.rho,\n",
        "                  g=params.g,\n",
        "                  t_end=params.t_end)"
      ],
      "execution_count": 5,
      "outputs": []
    },
    {
      "cell_type": "code",
      "metadata": {
        "colab": {
          "base_uri": "https://localhost:8080/",
          "height": 269
        },
        "id": "URYKy6ZSLkyt",
        "outputId": "25ab9e4f-917a-4f05-f1c9-7015e2a7aeb5"
      },
      "source": [
        "# create new object with parameters  \n",
        "system = make_system(params)\n",
        "show(system)"
      ],
      "execution_count": 6,
      "outputs": [
        {
          "output_type": "execute_result",
          "data": {
            "text/html": [
              "<div>\n",
              "<style scoped>\n",
              "    .dataframe tbody tr th:only-of-type {\n",
              "        vertical-align: middle;\n",
              "    }\n",
              "\n",
              "    .dataframe tbody tr th {\n",
              "        vertical-align: top;\n",
              "    }\n",
              "\n",
              "    .dataframe thead th {\n",
              "        text-align: right;\n",
              "    }\n",
              "</style>\n",
              "<table border=\"1\" class=\"dataframe\">\n",
              "  <thead>\n",
              "    <tr style=\"text-align: right;\">\n",
              "      <th></th>\n",
              "      <th>value</th>\n",
              "    </tr>\n",
              "  </thead>\n",
              "  <tbody>\n",
              "    <tr>\n",
              "      <th>init</th>\n",
              "      <td>y    55\n",
              "v     0\n",
              "Name: state, dtype: int64</td>\n",
              "    </tr>\n",
              "    <tr>\n",
              "      <th>area</th>\n",
              "      <td>0.0314159</td>\n",
              "    </tr>\n",
              "    <tr>\n",
              "      <th>cD</th>\n",
              "      <td>0.98883</td>\n",
              "    </tr>\n",
              "    <tr>\n",
              "      <th>mass</th>\n",
              "      <td>10</td>\n",
              "    </tr>\n",
              "    <tr>\n",
              "      <th>rho</th>\n",
              "      <td>1.5</td>\n",
              "    </tr>\n",
              "    <tr>\n",
              "      <th>g</th>\n",
              "      <td>3.7278</td>\n",
              "    </tr>\n",
              "    <tr>\n",
              "      <th>t_end</th>\n",
              "      <td>100</td>\n",
              "    </tr>\n",
              "  </tbody>\n",
              "</table>\n",
              "</div>"
            ],
            "text/plain": [
              "                                           value\n",
              "init   y    55\n",
              "v     0\n",
              "Name: state, dtype: int64\n",
              "area                                   0.0314159\n",
              "cD                                       0.98883\n",
              "mass                                          10\n",
              "rho                                          1.5\n",
              "g                                         3.7278\n",
              "t_end                                        100"
            ]
          },
          "metadata": {},
          "execution_count": 6
        }
      ]
    },
    {
      "cell_type": "code",
      "metadata": {
        "colab": {
          "base_uri": "https://localhost:8080/",
          "height": 206
        },
        "id": "SsE4MjvQOshV",
        "outputId": "3869af71-7bc4-4abc-9d77-c826b994c534"
      },
      "source": [
        "# simulation code\n",
        "def slope_func(t, state, system):\n",
        "    y, v = state\n",
        "    rho, cD, area = system.rho, system.cD, system.area\n",
        "    mass, g = system.mass, system.g\n",
        "    \n",
        "    # calculate change in acceleration (aD) and force (fD) due to drag\n",
        "    fD = rho * v**2 * cD * area / 2 \n",
        "    aD = fD / mass\n",
        "\n",
        "    dydt = v\n",
        "    dvdt = -g + aD    \n",
        "    return dydt, dvdt\n",
        "#########################################\n",
        "\n",
        "\n",
        "\n",
        "###########################################\n",
        "# event function to stop simulation when height = 0\n",
        "def event_func(t, state, system):\n",
        "    y, v = state\n",
        "    return y\n",
        "\n",
        "# run simulation\n",
        "results, details = run_solve_ivp(system, slope_func, events=event_func)\n",
        "y, v = results.iloc[-1]\n",
        "\n",
        "results.tail()\n"
      ],
      "execution_count": 7,
      "outputs": [
        {
          "output_type": "execute_result",
          "data": {
            "text/html": [
              "<div>\n",
              "<style scoped>\n",
              "    .dataframe tbody tr th:only-of-type {\n",
              "        vertical-align: middle;\n",
              "    }\n",
              "\n",
              "    .dataframe tbody tr th {\n",
              "        vertical-align: top;\n",
              "    }\n",
              "\n",
              "    .dataframe thead th {\n",
              "        text-align: right;\n",
              "    }\n",
              "</style>\n",
              "<table border=\"1\" class=\"dataframe\">\n",
              "  <thead>\n",
              "    <tr style=\"text-align: right;\">\n",
              "      <th></th>\n",
              "      <th>y</th>\n",
              "      <th>v</th>\n",
              "    </tr>\n",
              "  </thead>\n",
              "  <tbody>\n",
              "    <tr>\n",
              "      <th>5.327491</th>\n",
              "      <td>4.145712e+00</td>\n",
              "      <td>-18.369968</td>\n",
              "    </tr>\n",
              "    <tr>\n",
              "      <th>5.382986</th>\n",
              "      <td>3.122692e+00</td>\n",
              "      <td>-18.532838</td>\n",
              "    </tr>\n",
              "    <tr>\n",
              "      <th>5.438480</th>\n",
              "      <td>2.090706e+00</td>\n",
              "      <td>-18.694941</td>\n",
              "    </tr>\n",
              "    <tr>\n",
              "      <th>5.493975</th>\n",
              "      <td>1.049795e+00</td>\n",
              "      <td>-18.856275</td>\n",
              "    </tr>\n",
              "    <tr>\n",
              "      <th>5.549470</th>\n",
              "      <td>1.421085e-14</td>\n",
              "      <td>-19.016836</td>\n",
              "    </tr>\n",
              "  </tbody>\n",
              "</table>\n",
              "</div>"
            ],
            "text/plain": [
              "                     y          v\n",
              "5.327491  4.145712e+00 -18.369968\n",
              "5.382986  3.122692e+00 -18.532838\n",
              "5.438480  2.090706e+00 -18.694941\n",
              "5.493975  1.049795e+00 -18.856275\n",
              "5.549470  1.421085e-14 -19.016836"
            ]
          },
          "metadata": {},
          "execution_count": 7
        }
      ]
    },
    {
      "cell_type": "code",
      "metadata": {
        "colab": {
          "base_uri": "https://localhost:8080/",
          "height": 314
        },
        "id": "-SUzBZVPOtJl",
        "outputId": "78d5753f-d6c7-4603-9e38-b0241ad21f41"
      },
      "source": [
        "# plot graph for Time vs Position\n",
        "def plot_position(results):\n",
        "    results.y.plot(label='height')        \n",
        "    decorate(xlabel='Time (s)', ylabel='Position (m)')\n",
        "    \n",
        "plot_position(results)\n",
        "print('Penny hits the enemy at %.2f' % results.index[-1],'seconds')"
      ],
      "execution_count": 8,
      "outputs": [
        {
          "output_type": "stream",
          "name": "stdout",
          "text": [
            "Penny hits the enemy at 5.55 seconds\n"
          ]
        },
        {
          "output_type": "display_data",
          "data": {
            "image/png": "[encoded data removed]",
            "text/plain": [
              "<Figure size 432x288 with 1 Axes>"
            ]
          },
          "metadata": {
            "needs_background": "light"
          }
        }
      ]
    },
    {
      "cell_type": "code",
      "metadata": {
        "colab": {
          "base_uri": "https://localhost:8080/",
          "height": 314
        },
        "id": "BmXVoECEOuvk",
        "outputId": "9843fa91-2d10-4100-99dd-de58a0470c4d"
      },
      "source": [
        "# plot graph for Time vs Velocity\n",
        "def plot_velocity(results):\n",
        "    results.v.plot(color='C1', label='velocity')        \n",
        "    decorate(xlabel='Time (s)', ylabel='Velocity (m/s)')\n",
        "    \n",
        "plot_velocity(results)\n",
        "print('The final velocity is %.2f' % abs(v),'m/s downwards')"
      ],
      "execution_count": 9,
      "outputs": [
        {
          "output_type": "stream",
          "name": "stdout",
          "text": [
            "The final velocity is 19.02 m/s downwards\n"
          ]
        },
        {
          "output_type": "display_data",
          "data": {
            "image/png": "[encoded data removed]",
            "text/plain": [
              "<Figure size 432x288 with 1 Axes>"
            ]
          },
          "metadata": {
            "needs_background": "light"
          }
        }
      ]
    },
    {
      "cell_type": "code",
      "metadata": {
        "colab": {
          "base_uri": "https://localhost:8080/",
          "height": 279
        },
        "id": "tMMBiMpgUPDf",
        "outputId": "9c3bbce8-8698-498e-830f-372cf96a04bc"
      },
      "source": [
        "# To calculate mass vs force-of-impact graph, we calculate a \n",
        "# graph to show force-of-impact created by a coin ranging \n",
        "# from a mass of zero (0) to ten (10) kilograms. \n",
        "from matplotlib import pyplot as plt\n",
        "\n",
        "#numpy linespace method to create a range of 0-10 for mass range\n",
        "c_mass = np.linspace(0.0, 10.0, num=100)\n",
        "\n",
        "# calcule kinetic energy\n",
        "KE = 0.5 * c_mass * abs(v)**2\n",
        "\n",
        "# calculate force (kinetic energy/collision_time)\n",
        "force = KE/0.1\n",
        "\n",
        "# plot scatter graph for Mass vs Force-of-Impact\n",
        "plt.xlabel('Mass (kg)')\n",
        "plt.ylabel('Force of Impact (N)')\n",
        "for i in range(len(c_mass)):\n",
        "  plt.scatter(c_mass[i], force[i], c='lime', s=5, linewidth=0)"
      ],
      "execution_count": 60,
      "outputs": [
        {
          "output_type": "display_data",
          "data": {
            "image/png": "[encoded data removed]",
            "text/plain": [
              "<Figure size 432x288 with 1 Axes>"
            ]
          },
          "metadata": {
            "needs_background": "light"
          }
        }
      ]
    },
    {
      "cell_type": "markdown",
      "metadata": {
        "id": "qLTYyQhVxdd0"
      },
      "source": [
        ""
      ]
    },
    {
      "cell_type": "code",
      "metadata": {
        "colab": {
          "base_uri": "https://localhost:8080/",
          "height": 296
        },
        "id": "hAMXbVoFme3S",
        "outputId": "8538ee31-e43f-459c-cedd-4b56577a43af"
      },
      "source": [
        "# Mass v force-of-impact graph that shows cut-off for\n",
        "# when mass of penny exceeds a force-of-impact of 10,000N\n",
        "\n",
        "#calculate force as above\n",
        "c_mass = np.linspace(0.0, 10.0, num=100)\n",
        "KE = 0.5 * c_mass * abs(v)**2\n",
        "force = KE/0.1\n",
        "\n",
        "# create a color index for all values to allow the color\n",
        "# to be changed once the value of force[i] exceeds 10,000\n",
        "color = []\n",
        "for i in range(0, len(force)):\n",
        "  color.append('lime')\n",
        "\n",
        "for i in range(0, len(force)):\n",
        "  if force[i]>999 and force[i]<10001:\n",
        "    x=c_mass[i]  # finding minimum mass needed to exceed 10,000N\n",
        "  elif force[i]>10000:\n",
        "    color[i]='red'\n",
        "\n",
        "print('The minimum mass required to crack enemy skull is %.2f' % x,'N')\n",
        "\n",
        "# plot scatter graph for Mass vs Force-of-Impact\n",
        "plt.xlabel('Mass (kg)')\n",
        "plt.ylabel('Force of Impact (N)')\n",
        "for i in range(len(c_mass)):\n",
        "  plt.scatter(c_mass[i], force[i], c=color[i], s=5, linewidth=0)"
      ],
      "execution_count": 61,
      "outputs": [
        {
          "output_type": "stream",
          "name": "stdout",
          "text": [
            "The minimum mass required to crack enemy skull is 5.45 N\n"
          ]
        },
        {
          "output_type": "display_data",
          "data": {
            "image/png": "[encoded data removed]",
            "text/plain": [
              "<Figure size 432x288 with 1 Axes>"
            ]
          },
          "metadata": {
            "needs_background": "light"
          }
        }
      ]
    }
  ]
}