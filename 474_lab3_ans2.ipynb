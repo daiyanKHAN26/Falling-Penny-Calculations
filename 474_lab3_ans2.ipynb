{
  "nbformat": 4,
  "nbformat_minor": 0,
  "metadata": {
    "colab": {
      "name": "474_lab3_ans2",
      "provenance": [],
      "authorship_tag": "ABX9TyOetpJfi43aTp5yPzqzUrJO"
    },
    "kernelspec": {
      "name": "python3",
      "display_name": "Python 3"
    },
    "language_info": {
      "name": "python"
    }
  },
  "cells": [
    {
      "cell_type": "markdown",
      "metadata": {
        "id": "SewyY4tWyFsd"
      },
      "source": [
        "# **Penny drop without Air Resistance**"
      ]
    },
    {
      "cell_type": "code",
      "metadata": {
        "colab": {
          "base_uri": "https://localhost:8080/"
        },
        "id": "LkC3R-xfV-No",
        "outputId": "a71fdb2f-7862-4d86-d958-27762c24bba7"
      },
      "source": [
        "# set up libraries\n",
        "\n",
        "# modsim.py setup\n",
        "from os.path import basename, exists\n",
        "\n",
        "def download(url):\n",
        "    filename = basename(url)\n",
        "    if not exists(filename):\n",
        "        from urllib.request import urlretrieve\n",
        "        local, _ = urlretrieve(url, filename)\n",
        "        print('Downloaded ' + local)\n",
        "    \n",
        "download('https://raw.githubusercontent.com/AllenDowney/' + 'ModSimPy/master/modsim.py')"
      ],
      "execution_count": null,
      "outputs": [
        {
          "output_type": "stream",
          "name": "stdout",
          "text": [
            "Downloaded modsim.py\n"
          ]
        }
      ]
    },
    {
      "cell_type": "code",
      "metadata": {
        "id": "j3XQ3dAsWAs8"
      },
      "source": [
        "# import all required functions\n",
        "from modsim import *\n",
        "from numpy import pi"
      ],
      "execution_count": null,
      "outputs": []
    },
    {
      "cell_type": "code",
      "metadata": {
        "colab": {
          "base_uri": "https://localhost:8080/"
        },
        "id": "VCOIgWoYWCh4",
        "outputId": "19bb9c19-002a-4bf3-ae8d-c4b9da26c1e0"
      },
      "source": [
        "# first calculate gravity on Arrakis\n",
        "earth_grav = 9.81\n",
        "arrak_grav = earth_grav*0.38\n",
        "print('Gravity on Arrakis is = %.2f' % arrak_grav,'m/s\\u00b2') "
      ],
      "execution_count": null,
      "outputs": [
        {
          "output_type": "stream",
          "name": "stdout",
          "text": [
            "Gravity on Arrakis is = 6.08 m/s²\n"
          ]
        }
      ]
    },
    {
      "cell_type": "code",
      "metadata": {
        "colab": {
          "base_uri": "https://localhost:8080/",
          "height": 331
        },
        "id": "0-s5UgsGU1IJ",
        "outputId": "32b7f74c-02d7-4074-d437-08e51deb2d71"
      },
      "source": [
        "# set initial drop height and velocity\n",
        "init = State(y=58, v=0)\n",
        "system = System(init=init, g=arrak_grav, t_end=10)\n",
        "\n",
        "# define slope function to calculate derivatives\n",
        "def slope_func(t, state, system):\n",
        "    y, v = state\n",
        "    dydt = v\n",
        "    dvdt = -system.g    # set g as -ve to account for deceleration\n",
        "    return dydt, dvdt\n",
        "\n",
        "# define an event function to stop simulation when \n",
        "# height = 0, ie penny has hit the ground \n",
        "def event_func(t, state, system):\n",
        "    y, v = state\n",
        "    return y\n",
        "\n",
        "results, details = run_solve_ivp(system, slope_func, events=event_func)\n",
        "y, v = results.iloc[-1]\n",
        "# print results\n",
        "results.y.plot(label='height')\n",
        "decorate(xlabel='Time (s)', ylabel='Position (m)')\n",
        "print('Penny hits the ground at %.2f' % results.index[-1],'seconds')\n",
        "print('The final velocity is %.2f' % abs(v),'m/s')"
      ],
      "execution_count": null,
      "outputs": [
        {
          "output_type": "stream",
          "name": "stdout",
          "text": [
            "Penny hits the ground at 4.37 seconds\n",
            "The final velocity is 26.56 m/s\n"
          ]
        },
        {
          "output_type": "display_data",
          "data": {
            "image/png": "[encoded data removed]",
            "text/plain": [
              "<Figure size 432x288 with 1 Axes>"
            ]
          },
          "metadata": {
            "needs_background": "light"
          }
        }
      ]
    }
  ]
}